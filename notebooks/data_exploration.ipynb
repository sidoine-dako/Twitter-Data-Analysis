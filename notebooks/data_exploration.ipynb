{
 "cells": [
  {
   "cell_type": "markdown",
   "metadata": {},
   "source": [
    "# Twitter data analysis project\n",
    "## Data exploration\n",
    "\n",
    "The purpose of this notebook is to explore the data to extract any meaningful information we can share with the stakeholders.<br>\n",
    "For the part of the data exploration, we decide to provide some information about the shape of the data we extracted from the JSON file named *global_twitter_data.json*. Those information are:\n",
    "* shape of the data frame\n",
    "* distribution of the languages (number of occurence of the tweets languages)\n",
    "* the most used hashtags\n",
    "* the general opinion of tweetos\n",
    "* whether we can trust or not the information conveyed by the tweets\n",
    "* the most used words"
   ]
  },
  {
   "cell_type": "code",
   "execution_count": 26,
   "metadata": {},
   "outputs": [],
   "source": [
    "# Import the libraries\n",
    "import warnings\n",
    "warnings.filterwarnings('ignore')\n",
    "import numpy as np\n",
    "import pandas as pd\n",
    "import matplotlib.pyplot as plt\n",
    "import sys,os\n",
    "import seaborn as sns\n",
    "from wordcloud import STOPWORDS,WordCloud\n",
    "from gensim import corpora\n",
    "import pandas as pd\n",
    "import statistics\n",
    "import string\n",
    "\n",
    "sys.path.append(os.path.abspath(os.path.join('../')))\n",
    "\n",
    "# Import the modules\n",
    "from clean_tweets_dataframe import Clean_Tweets\n",
    "\n",
    "# Import the data set\n",
    "df = pd.read_csv(\"../data/processed_tweet_data.csv\")"
   ]
  },
  {
   "cell_type": "code",
   "execution_count": 27,
   "metadata": {},
   "outputs": [
    {
     "name": "stdout",
     "output_type": "stream",
     "text": [
      "(22000, 17)\n",
      "<class 'pandas.core.frame.DataFrame'>\n",
      "RangeIndex: 22000 entries, 0 to 21999\n",
      "Data columns (total 17 columns):\n",
      " #   Column              Non-Null Count  Dtype  \n",
      "---  ------              --------------  -----  \n",
      " 0   created_at          22000 non-null  object \n",
      " 1   source              22000 non-null  object \n",
      " 2   original_text       22000 non-null  object \n",
      " 3   clean_text          22000 non-null  object \n",
      " 4   polarity            22000 non-null  float64\n",
      " 5   subjectivity        22000 non-null  float64\n",
      " 6   sentiment           22000 non-null  object \n",
      " 7   lang                22000 non-null  object \n",
      " 8   favorite_count      22000 non-null  int64  \n",
      " 9   retweet_count       22000 non-null  int64  \n",
      " 10  original_author     22000 non-null  object \n",
      " 11  followers_count     22000 non-null  int64  \n",
      " 12  friends_count       22000 non-null  int64  \n",
      " 13  possibly_sensitive  6191 non-null   object \n",
      " 14  hashtags            22000 non-null  object \n",
      " 15  user_mentions       22000 non-null  object \n",
      " 16  place               12107 non-null  object \n",
      "dtypes: float64(2), int64(4), object(11)\n",
      "memory usage: 2.9+ MB\n"
     ]
    }
   ],
   "source": [
    "# Look at the information about the data set\n",
    "print(df.shape)\n",
    "df.info()"
   ]
  },
  {
   "cell_type": "markdown",
   "metadata": {},
   "source": [
    "We have $22000$ tweets in our data set and $17$ features."
   ]
  },
  {
   "cell_type": "code",
   "execution_count": 34,
   "metadata": {},
   "outputs": [],
   "source": [
    "# Get the text category (positive, negative, neutral)\n",
    "def text_category(polarity):\n",
    "    \"\"\"\n",
    "    Description:\n",
    "    ------------\n",
    "    Function to return sentiment carried out by a tweet (using it's polarity)\n",
    "    \"\"\"\n",
    "    if polarity < 0:\n",
    "        return('negative')\n",
    "    elif polarity >0:\n",
    "        return('positive')\n",
    "    else:\n",
    "        return('neutral')\n",
    "\n",
    "# Plot the repartition of the languages\n",
    "def plot_bar(df,col:str):\n",
    "    \"\"\"\n",
    "    Description:\n",
    "    ------------\n",
    "    Draw bar plot based on the column 'col' in the dataframe 'df'\n",
    "    \"\"\"\n",
    "    plt.bar(df[col].value_counts().index,df[col].value_counts())\n",
    "    plt.show()\n",
    "\n",
    "# Extract elements\n",
    "def extract_el(df,col,num_el=5):\n",
    "    \"\"\"\n",
    "    Description:\n",
    "    ------------\n",
    "    Extract\n",
    "    \"\"\"\n",
    "    res = pd.DataFrame(df[col].value_counts()[:num_el])\n",
    "    return res"
   ]
  },
  {
   "cell_type": "code",
   "execution_count": 36,
   "metadata": {},
   "outputs": [
    {
     "data": {
      "text/html": [
       "<div>\n",
       "<style scoped>\n",
       "    .dataframe tbody tr th:only-of-type {\n",
       "        vertical-align: middle;\n",
       "    }\n",
       "\n",
       "    .dataframe tbody tr th {\n",
       "        vertical-align: top;\n",
       "    }\n",
       "\n",
       "    .dataframe thead th {\n",
       "        text-align: right;\n",
       "    }\n",
       "</style>\n",
       "<table border=\"1\" class=\"dataframe\">\n",
       "  <thead>\n",
       "    <tr style=\"text-align: right;\">\n",
       "      <th></th>\n",
       "      <th>original_author</th>\n",
       "    </tr>\n",
       "  </thead>\n",
       "  <tbody>\n",
       "    <tr>\n",
       "      <th>TrumpThuan</th>\n",
       "      <td>116</td>\n",
       "    </tr>\n",
       "    <tr>\n",
       "      <th>CGMeifangZhang</th>\n",
       "      <td>65</td>\n",
       "    </tr>\n",
       "    <tr>\n",
       "      <th>AarianNewsX</th>\n",
       "      <td>59</td>\n",
       "    </tr>\n",
       "    <tr>\n",
       "      <th>Lin73324756</th>\n",
       "      <td>48</td>\n",
       "    </tr>\n",
       "    <tr>\n",
       "      <th>Bin20211001</th>\n",
       "      <td>46</td>\n",
       "    </tr>\n",
       "    <tr>\n",
       "      <th>YangChenbin</th>\n",
       "      <td>45</td>\n",
       "    </tr>\n",
       "    <tr>\n",
       "      <th>Alex28807650</th>\n",
       "      <td>44</td>\n",
       "    </tr>\n",
       "    <tr>\n",
       "      <th>SoizaDavid</th>\n",
       "      <td>42</td>\n",
       "    </tr>\n",
       "    <tr>\n",
       "      <th>fchaumac_chau</th>\n",
       "      <td>41</td>\n",
       "    </tr>\n",
       "    <tr>\n",
       "      <th>hephaistos_ai</th>\n",
       "      <td>39</td>\n",
       "    </tr>\n",
       "  </tbody>\n",
       "</table>\n",
       "</div>"
      ],
      "text/plain": [
       "                original_author\n",
       "TrumpThuan                  116\n",
       "CGMeifangZhang               65\n",
       "AarianNewsX                  59\n",
       "Lin73324756                  48\n",
       "Bin20211001                  46\n",
       "YangChenbin                  45\n",
       "Alex28807650                 44\n",
       "SoizaDavid                   42\n",
       "fchaumac_chau                41\n",
       "hephaistos_ai                39"
      ]
     },
     "execution_count": 36,
     "metadata": {},
     "output_type": "execute_result"
    }
   ],
   "source": [
    "extract_el(df,'original_author',10)"
   ]
  },
  {
   "cell_type": "code",
   "execution_count": 29,
   "metadata": {},
   "outputs": [
    {
     "data": {
      "image/png": "[encoded data removed]",
      "text/plain": [
       "<Figure size 432x288 with 1 Axes>"
      ]
     },
     "metadata": {
      "needs_background": "light"
     },
     "output_type": "display_data"
    }
   ],
   "source": [
    "plot_bar(df,'lang')"
   ]
  },
  {
   "cell_type": "code",
   "execution_count": 30,
   "metadata": {},
   "outputs": [
    {
     "data": {
      "image/png": "[encoded data removed]",
      "text/plain": [
       "<Figure size 432x288 with 1 Axes>"
      ]
     },
     "metadata": {
      "needs_background": "light"
     },
     "output_type": "display_data"
    }
   ],
   "source": [
    "plot_bar(df,'sentiment')"
   ]
  },
  {
   "cell_type": "code",
   "execution_count": 32,
   "metadata": {},
   "outputs": [
    {
     "data": {
      "text/plain": [
       "TrumpThuan         116\n",
       "CGMeifangZhang      65\n",
       "AarianNewsX         59\n",
       "Lin73324756         48\n",
       "Bin20211001         46\n",
       "                  ... \n",
       "RomeshNadir          1\n",
       "BlackberryXRP        1\n",
       "damnsleeper          1\n",
       "o0LXQCUdfQYHftW      1\n",
       "TTrapczynski         1\n",
       "Name: original_author, Length: 13433, dtype: int64"
      ]
     },
     "execution_count": 32,
     "metadata": {},
     "output_type": "execute_result"
    }
   ],
   "source": [
    "df['original_author'].value_counts()"
   ]
  },
  {
   "cell_type": "code",
   "execution_count": 3,
   "metadata": {},
   "outputs": [
    {
     "name": "stdout",
     "output_type": "stream",
     "text": [
      "Automation in Action...!!!\n"
     ]
    }
   ],
   "source": [
    "# Clean the tweets\n",
    "dfObj = Clean_Tweets(df)\n",
    "dfObj.drop_duplicate()\n",
    "dfObj.drop_unwanted_column()\n",
    "dfObj.convert_to_datetime('created_at')\n",
    "dfObj.convert_to_numbers()\n",
    "dfClean = dfObj.remove_non_english_tweets()"
   ]
  },
  {
   "cell_type": "code",
   "execution_count": 4,
   "metadata": {},
   "outputs": [
    {
     "name": "stdout",
     "output_type": "stream",
     "text": [
      "<class 'pandas.core.frame.DataFrame'>\n",
      "Int64Index: 22000 entries, 0 to 21999\n",
      "Data columns (total 18 columns):\n",
      " #   Column              Non-Null Count  Dtype              \n",
      "---  ------              --------------  -----              \n",
      " 0   created_at          22000 non-null  datetime64[ns, UTC]\n",
      " 1   source              22000 non-null  object             \n",
      " 2   original_text       22000 non-null  object             \n",
      " 3   clean_text          22000 non-null  object             \n",
      " 4   polarity            22000 non-null  float64            \n",
      " 5   subjectivity        22000 non-null  float64            \n",
      " 6   sentiment           22000 non-null  object             \n",
      " 7   lang                22000 non-null  object             \n",
      " 8   favorite_count      22000 non-null  int64              \n",
      " 9   retweet_count       22000 non-null  int64              \n",
      " 10  original_author     22000 non-null  object             \n",
      " 11  followers_count     22000 non-null  int64              \n",
      " 12  friends_count       22000 non-null  int64              \n",
      " 13  possibly_sensitive  6191 non-null   object             \n",
      " 14  hashtags            22000 non-null  object             \n",
      " 15  user_mentions       22000 non-null  object             \n",
      " 16  place               12107 non-null  object             \n",
      " 17  date                22000 non-null  object             \n",
      "dtypes: datetime64[ns, UTC](1), float64(2), int64(4), object(11)\n",
      "memory usage: 3.7+ MB\n"
     ]
    }
   ],
   "source": [
    "dfClean.info()"
   ]
  },
  {
   "cell_type": "code",
   "execution_count": 15,
   "metadata": {},
   "outputs": [
    {
     "ename": "AttributeError",
     "evalue": "module 'matplotlib.pyplot' has no attribute 'line'",
     "output_type": "error",
     "traceback": [
      "\u001b[1;31m---------------------------------------------------------------------------\u001b[0m",
      "\u001b[1;31mAttributeError\u001b[0m                            Traceback (most recent call last)",
      "\u001b[1;32m<ipython-input-15-225ddd3640a8>\u001b[0m in \u001b[0;36m<module>\u001b[1;34m\u001b[0m\n\u001b[1;32m----> 1\u001b[1;33m \u001b[0mplt\u001b[0m\u001b[1;33m.\u001b[0m\u001b[0mline\u001b[0m\u001b[1;33m(\u001b[0m\u001b[0mdfClean\u001b[0m\u001b[1;33m[\u001b[0m\u001b[1;34m'date'\u001b[0m\u001b[1;33m]\u001b[0m\u001b[1;33m.\u001b[0m\u001b[0mvalue_counts\u001b[0m\u001b[1;33m(\u001b[0m\u001b[1;33m)\u001b[0m\u001b[1;33m.\u001b[0m\u001b[0mindex\u001b[0m\u001b[1;33m,\u001b[0m\u001b[0mdfClean\u001b[0m\u001b[1;33m[\u001b[0m\u001b[1;34m'date'\u001b[0m\u001b[1;33m]\u001b[0m\u001b[1;33m.\u001b[0m\u001b[0mvalue_counts\u001b[0m\u001b[1;33m(\u001b[0m\u001b[1;33m)\u001b[0m\u001b[1;33m)\u001b[0m\u001b[1;33m\u001b[0m\u001b[1;33m\u001b[0m\u001b[0m\n\u001b[0m",
      "\u001b[1;31mAttributeError\u001b[0m: module 'matplotlib.pyplot' has no attribute 'line'"
     ]
    }
   ],
   "source": [
    "plt.line(dfClean['date'].value_counts().index,dfClean['date'].value_counts())"
   ]
  }
 ],
 "metadata": {
  "kernelspec": {
   "display_name": "Python 3.8.8 ('base')",
   "language": "python",
   "name": "python3"
  },
  "language_info": {
   "codemirror_mode": {
    "name": "ipython",
    "version": 3
   },
   "file_extension": ".py",
   "mimetype": "text/x-python",
   "name": "python",
   "nbconvert_exporter": "python",
   "pygments_lexer": "ipython3",
   "version": "3.8.8"
  },
  "orig_nbformat": 4,
  "vscode": {
   "interpreter": {
    "hash": "c28ef22507cb38b5c20e2f3f4de73f1abc79efb760611b966c201b34f7f24413"
   }
  }
 },
 "nbformat": 4,
 "nbformat_minor": 2
}
